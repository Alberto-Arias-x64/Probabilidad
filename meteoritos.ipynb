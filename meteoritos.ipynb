{
 "metadata": {
  "language_info": {
   "codemirror_mode": {
    "name": "ipython",
    "version": 3
   },
   "file_extension": ".py",
   "mimetype": "text/x-python",
   "name": "python",
   "nbconvert_exporter": "python",
   "pygments_lexer": "ipython3",
   "version": "3.7.9"
  },
  "orig_nbformat": 2,
  "kernelspec": {
   "name": "python379jvsc74a57bd0b859493c4c098a321096eda3faf2532b845b2abc59b246e9be575a135505802b",
   "display_name": "Python 3.7.9 64-bit"
  },
  "metadata": {
   "interpreter": {
    "hash": "b859493c4c098a321096eda3faf2532b845b2abc59b246e9be575a135505802b"
   }
  }
 },
 "nbformat": 4,
 "nbformat_minor": 2,
 "cells": [
  {
   "cell_type": "code",
   "execution_count": 1,
   "metadata": {},
   "outputs": [],
   "source": [
    "import pandas as pd "
   ]
  },
  {
   "cell_type": "code",
   "execution_count": 14,
   "metadata": {},
   "outputs": [
    {
     "output_type": "execute_result",
     "data": {
      "text/plain": [
       "                              name     id nametype   recclass      mass  \\\n",
       "36891                      Saotome  23174    Valid  Iron, IVA  10880.00   \n",
       "3868                  Asuka 880812   3521    Valid         H5     16.94   \n",
       "32516  Queen Alexandra Range 93273  19361    Valid         H5      1.10   \n",
       "11415       Elephant Moraine 96227   9818    Valid         L5      4.90   \n",
       "8238                    Dhofar 935   7637    Valid         H5   1500.00   \n",
       "\n",
       "        fall    year    reclat    reclong               GeoLocation  \n",
       "36891  Found  1892.0  36.50000  137.00000   (36.500000, 137.000000)  \n",
       "3868   Found  1988.0 -72.00000   26.00000   (-72.000000, 26.000000)  \n",
       "32516  Found  1993.0 -84.00000  168.00000  (-84.000000, 168.000000)  \n",
       "11415  Found  1996.0 -76.18333  157.16667  (-76.183330, 157.166670)  \n",
       "8238   Found  2002.0  19.10500   54.81167    (19.105000, 54.811670)  "
      ],
      "text/html": "<div>\n<style scoped>\n    .dataframe tbody tr th:only-of-type {\n        vertical-align: middle;\n    }\n\n    .dataframe tbody tr th {\n        vertical-align: top;\n    }\n\n    .dataframe thead th {\n        text-align: right;\n    }\n</style>\n<table border=\"1\" class=\"dataframe\">\n  <thead>\n    <tr style=\"text-align: right;\">\n      <th></th>\n      <th>name</th>\n      <th>id</th>\n      <th>nametype</th>\n      <th>recclass</th>\n      <th>mass</th>\n      <th>fall</th>\n      <th>year</th>\n      <th>reclat</th>\n      <th>reclong</th>\n      <th>GeoLocation</th>\n    </tr>\n  </thead>\n  <tbody>\n    <tr>\n      <th>36891</th>\n      <td>Saotome</td>\n      <td>23174</td>\n      <td>Valid</td>\n      <td>Iron, IVA</td>\n      <td>10880.00</td>\n      <td>Found</td>\n      <td>1892.0</td>\n      <td>36.50000</td>\n      <td>137.00000</td>\n      <td>(36.500000, 137.000000)</td>\n    </tr>\n    <tr>\n      <th>3868</th>\n      <td>Asuka 880812</td>\n      <td>3521</td>\n      <td>Valid</td>\n      <td>H5</td>\n      <td>16.94</td>\n      <td>Found</td>\n      <td>1988.0</td>\n      <td>-72.00000</td>\n      <td>26.00000</td>\n      <td>(-72.000000, 26.000000)</td>\n    </tr>\n    <tr>\n      <th>32516</th>\n      <td>Queen Alexandra Range 93273</td>\n      <td>19361</td>\n      <td>Valid</td>\n      <td>H5</td>\n      <td>1.10</td>\n      <td>Found</td>\n      <td>1993.0</td>\n      <td>-84.00000</td>\n      <td>168.00000</td>\n      <td>(-84.000000, 168.000000)</td>\n    </tr>\n    <tr>\n      <th>11415</th>\n      <td>Elephant Moraine 96227</td>\n      <td>9818</td>\n      <td>Valid</td>\n      <td>L5</td>\n      <td>4.90</td>\n      <td>Found</td>\n      <td>1996.0</td>\n      <td>-76.18333</td>\n      <td>157.16667</td>\n      <td>(-76.183330, 157.166670)</td>\n    </tr>\n    <tr>\n      <th>8238</th>\n      <td>Dhofar 935</td>\n      <td>7637</td>\n      <td>Valid</td>\n      <td>H5</td>\n      <td>1500.00</td>\n      <td>Found</td>\n      <td>2002.0</td>\n      <td>19.10500</td>\n      <td>54.81167</td>\n      <td>(19.105000, 54.811670)</td>\n    </tr>\n  </tbody>\n</table>\n</div>"
     },
     "metadata": {},
     "execution_count": 14
    }
   ],
   "source": [
    "dataframe = pd.read_csv('./meteorite-landings.csv')\n",
    "dataframe.sample(5)"
   ]
  },
  {
   "cell_type": "code",
   "execution_count": 7,
   "metadata": {},
   "outputs": [
    {
     "output_type": "stream",
     "name": "stdout",
     "text": [
      "(45716, 10)\n457160\n"
     ]
    }
   ],
   "source": [
    "print(dataframe.shape)\n",
    "print(dataframe.size)"
   ]
  },
  {
   "cell_type": "code",
   "execution_count": 17,
   "metadata": {},
   "outputs": [
    {
     "output_type": "execute_result",
     "data": {
      "text/plain": [
       "            id         mass     year   reclat  reclong\n",
       "count 45,716.0     45,585.0 45,428.0 38,401.0 38,401.0\n",
       "mean  26,889.7     13,278.1  1,991.8    -39.1     61.1\n",
       "std   16,860.7    574,988.9     27.2     46.4     80.6\n",
       "min        1.0          0.0    301.0    -87.4   -165.4\n",
       "25%   12,688.8          7.2  1,987.0    -76.7      0.0\n",
       "50%   24,261.5         32.6  1,998.0    -71.5     35.7\n",
       "75%   40,656.8        202.6  2,003.0      0.0    157.2\n",
       "max   57,458.0 60,000,000.0  2,501.0     81.2    354.5"
      ],
      "text/html": "<div>\n<style scoped>\n    .dataframe tbody tr th:only-of-type {\n        vertical-align: middle;\n    }\n\n    .dataframe tbody tr th {\n        vertical-align: top;\n    }\n\n    .dataframe thead th {\n        text-align: right;\n    }\n</style>\n<table border=\"1\" class=\"dataframe\">\n  <thead>\n    <tr style=\"text-align: right;\">\n      <th></th>\n      <th>id</th>\n      <th>mass</th>\n      <th>year</th>\n      <th>reclat</th>\n      <th>reclong</th>\n    </tr>\n  </thead>\n  <tbody>\n    <tr>\n      <th>count</th>\n      <td>45,716.0</td>\n      <td>45,585.0</td>\n      <td>45,428.0</td>\n      <td>38,401.0</td>\n      <td>38,401.0</td>\n    </tr>\n    <tr>\n      <th>mean</th>\n      <td>26,889.7</td>\n      <td>13,278.1</td>\n      <td>1,991.8</td>\n      <td>-39.1</td>\n      <td>61.1</td>\n    </tr>\n    <tr>\n      <th>std</th>\n      <td>16,860.7</td>\n      <td>574,988.9</td>\n      <td>27.2</td>\n      <td>46.4</td>\n      <td>80.6</td>\n    </tr>\n    <tr>\n      <th>min</th>\n      <td>1.0</td>\n      <td>0.0</td>\n      <td>301.0</td>\n      <td>-87.4</td>\n      <td>-165.4</td>\n    </tr>\n    <tr>\n      <th>25%</th>\n      <td>12,688.8</td>\n      <td>7.2</td>\n      <td>1,987.0</td>\n      <td>-76.7</td>\n      <td>0.0</td>\n    </tr>\n    <tr>\n      <th>50%</th>\n      <td>24,261.5</td>\n      <td>32.6</td>\n      <td>1,998.0</td>\n      <td>-71.5</td>\n      <td>35.7</td>\n    </tr>\n    <tr>\n      <th>75%</th>\n      <td>40,656.8</td>\n      <td>202.6</td>\n      <td>2,003.0</td>\n      <td>0.0</td>\n      <td>157.2</td>\n    </tr>\n    <tr>\n      <th>max</th>\n      <td>57,458.0</td>\n      <td>60,000,000.0</td>\n      <td>2,501.0</td>\n      <td>81.2</td>\n      <td>354.5</td>\n    </tr>\n  </tbody>\n</table>\n</div>"
     },
     "metadata": {},
     "execution_count": 17
    }
   ],
   "source": [
    "pd.options.display.float_format='{:,.1f}'.format\n",
    "dataframe.describe()"
   ]
  },
  {
   "cell_type": "code",
   "execution_count": 18,
   "metadata": {},
   "outputs": [
    {
     "output_type": "stream",
     "name": "stdout",
     "text": [
      "<class 'pandas.core.frame.DataFrame'>\nRangeIndex: 45716 entries, 0 to 45715\nData columns (total 10 columns):\n #   Column       Non-Null Count  Dtype  \n---  ------       --------------  -----  \n 0   name         45716 non-null  object \n 1   id           45716 non-null  int64  \n 2   nametype     45716 non-null  object \n 3   recclass     45716 non-null  object \n 4   mass         45585 non-null  float64\n 5   fall         45716 non-null  object \n 6   year         45428 non-null  float64\n 7   reclat       38401 non-null  float64\n 8   reclong      38401 non-null  float64\n 9   GeoLocation  38401 non-null  object \ndtypes: float64(4), int64(1), object(5)\nmemory usage: 3.5+ MB\n"
     ]
    }
   ],
   "source": [
    "dataframe.info()"
   ]
  },
  {
   "cell_type": "code",
   "execution_count": 13,
   "metadata": {},
   "outputs": [
    {
     "output_type": "execute_result",
     "data": {
      "text/plain": [
       "         name     id nametype           recclass  mass   fall   year  \\\n",
       "16356  Havana  11857    Valid  Iron, IAB complex   NaN  Found  301.0   \n",
       "\n",
       "         reclat  reclong              GeoLocation  \n",
       "16356  40.33333   -90.05  (40.333330, -90.050000)  "
      ],
      "text/html": "<div>\n<style scoped>\n    .dataframe tbody tr th:only-of-type {\n        vertical-align: middle;\n    }\n\n    .dataframe tbody tr th {\n        vertical-align: top;\n    }\n\n    .dataframe thead th {\n        text-align: right;\n    }\n</style>\n<table border=\"1\" class=\"dataframe\">\n  <thead>\n    <tr style=\"text-align: right;\">\n      <th></th>\n      <th>name</th>\n      <th>id</th>\n      <th>nametype</th>\n      <th>recclass</th>\n      <th>mass</th>\n      <th>fall</th>\n      <th>year</th>\n      <th>reclat</th>\n      <th>reclong</th>\n      <th>GeoLocation</th>\n    </tr>\n  </thead>\n  <tbody>\n    <tr>\n      <th>16356</th>\n      <td>Havana</td>\n      <td>11857</td>\n      <td>Valid</td>\n      <td>Iron, IAB complex</td>\n      <td>NaN</td>\n      <td>Found</td>\n      <td>301.0</td>\n      <td>40.33333</td>\n      <td>-90.05</td>\n      <td>(40.333330, -90.050000)</td>\n    </tr>\n  </tbody>\n</table>\n</div>"
     },
     "metadata": {},
     "execution_count": 13
    }
   ],
   "source": [
    "dataframe[dataframe['year']==301]"
   ]
  },
  {
   "cell_type": "code",
   "execution_count": null,
   "metadata": {},
   "outputs": [],
   "source": []
  }
 ]
}