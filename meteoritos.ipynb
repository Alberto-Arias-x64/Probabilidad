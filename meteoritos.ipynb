{
 "metadata": {
  "language_info": {
   "codemirror_mode": {
    "name": "ipython",
    "version": 3
   },
   "file_extension": ".py",
   "mimetype": "text/x-python",
   "name": "python",
   "nbconvert_exporter": "python",
   "pygments_lexer": "ipython3",
   "version": "3.7.9"
  },
  "orig_nbformat": 2,
  "kernelspec": {
   "name": "python379jvsc74a57bd0b859493c4c098a321096eda3faf2532b845b2abc59b246e9be575a135505802b",
   "display_name": "Python 3.7.9 64-bit"
  },
  "metadata": {
   "interpreter": {
    "hash": "b859493c4c098a321096eda3faf2532b845b2abc59b246e9be575a135505802b"
   }
  }
 },
 "nbformat": 4,
 "nbformat_minor": 2,
 "cells": [
  {
   "cell_type": "code",
   "execution_count": 25,
   "metadata": {},
   "outputs": [],
   "source": [
    "import pandas as pd "
   ]
  },
  {
   "cell_type": "code",
   "execution_count": 26,
   "metadata": {},
   "outputs": [
    {
     "output_type": "execute_result",
     "data": {
      "text/plain": [
       "                              name     id nametype     recclass  mass   fall  \\\n",
       "8990          Dominion Range 10047  56824    Valid          LL5  22.4  Found   \n",
       "9036          Dominion Range 10365  56859    Valid           H6   3.5  Found   \n",
       "32713  Queen Alexandra Range 93470  19558    Valid           L5   6.7  Found   \n",
       "10460       Elephant Moraine 90454   8863    Valid           L6 212.9  Found   \n",
       "27715        Northwest Africa 2723  33216    Valid  L-melt rock 169.0  Found   \n",
       "\n",
       "         year  reclat  reclong               GeoLocation  \n",
       "8990  2,010.0     0.0      0.0      (0.000000, 0.000000)  \n",
       "9036  2,010.0     0.0      0.0      (0.000000, 0.000000)  \n",
       "32713 1,993.0   -84.0    168.0  (-84.000000, 168.000000)  \n",
       "10460 1,990.0   -76.3    156.5  (-76.284330, 156.460660)  \n",
       "27715 2,004.0     NaN      NaN                       NaN  "
      ],
      "text/html": "<div>\n<style scoped>\n    .dataframe tbody tr th:only-of-type {\n        vertical-align: middle;\n    }\n\n    .dataframe tbody tr th {\n        vertical-align: top;\n    }\n\n    .dataframe thead th {\n        text-align: right;\n    }\n</style>\n<table border=\"1\" class=\"dataframe\">\n  <thead>\n    <tr style=\"text-align: right;\">\n      <th></th>\n      <th>name</th>\n      <th>id</th>\n      <th>nametype</th>\n      <th>recclass</th>\n      <th>mass</th>\n      <th>fall</th>\n      <th>year</th>\n      <th>reclat</th>\n      <th>reclong</th>\n      <th>GeoLocation</th>\n    </tr>\n  </thead>\n  <tbody>\n    <tr>\n      <th>8990</th>\n      <td>Dominion Range 10047</td>\n      <td>56824</td>\n      <td>Valid</td>\n      <td>LL5</td>\n      <td>22.4</td>\n      <td>Found</td>\n      <td>2,010.0</td>\n      <td>0.0</td>\n      <td>0.0</td>\n      <td>(0.000000, 0.000000)</td>\n    </tr>\n    <tr>\n      <th>9036</th>\n      <td>Dominion Range 10365</td>\n      <td>56859</td>\n      <td>Valid</td>\n      <td>H6</td>\n      <td>3.5</td>\n      <td>Found</td>\n      <td>2,010.0</td>\n      <td>0.0</td>\n      <td>0.0</td>\n      <td>(0.000000, 0.000000)</td>\n    </tr>\n    <tr>\n      <th>32713</th>\n      <td>Queen Alexandra Range 93470</td>\n      <td>19558</td>\n      <td>Valid</td>\n      <td>L5</td>\n      <td>6.7</td>\n      <td>Found</td>\n      <td>1,993.0</td>\n      <td>-84.0</td>\n      <td>168.0</td>\n      <td>(-84.000000, 168.000000)</td>\n    </tr>\n    <tr>\n      <th>10460</th>\n      <td>Elephant Moraine 90454</td>\n      <td>8863</td>\n      <td>Valid</td>\n      <td>L6</td>\n      <td>212.9</td>\n      <td>Found</td>\n      <td>1,990.0</td>\n      <td>-76.3</td>\n      <td>156.5</td>\n      <td>(-76.284330, 156.460660)</td>\n    </tr>\n    <tr>\n      <th>27715</th>\n      <td>Northwest Africa 2723</td>\n      <td>33216</td>\n      <td>Valid</td>\n      <td>L-melt rock</td>\n      <td>169.0</td>\n      <td>Found</td>\n      <td>2,004.0</td>\n      <td>NaN</td>\n      <td>NaN</td>\n      <td>NaN</td>\n    </tr>\n  </tbody>\n</table>\n</div>"
     },
     "metadata": {},
     "execution_count": 26
    }
   ],
   "source": [
    "dataframe = pd.read_csv('./meteorite-landings.csv')\n",
    "dataframe.sample(5)"
   ]
  },
  {
   "cell_type": "code",
   "execution_count": 27,
   "metadata": {},
   "outputs": [
    {
     "output_type": "stream",
     "name": "stdout",
     "text": [
      "(45716, 10)\n457160\n"
     ]
    }
   ],
   "source": [
    "print(dataframe.shape)\n",
    "print(dataframe.size)"
   ]
  },
  {
   "cell_type": "code",
   "execution_count": 28,
   "metadata": {},
   "outputs": [
    {
     "output_type": "execute_result",
     "data": {
      "text/plain": [
       "            id         mass     year   reclat  reclong\n",
       "count 45,716.0     45,585.0 45,428.0 38,401.0 38,401.0\n",
       "mean  26,889.7     13,278.1  1,991.8    -39.1     61.1\n",
       "std   16,860.7    574,988.9     27.2     46.4     80.6\n",
       "min        1.0          0.0    301.0    -87.4   -165.4\n",
       "25%   12,688.8          7.2  1,987.0    -76.7      0.0\n",
       "50%   24,261.5         32.6  1,998.0    -71.5     35.7\n",
       "75%   40,656.8        202.6  2,003.0      0.0    157.2\n",
       "max   57,458.0 60,000,000.0  2,501.0     81.2    354.5"
      ],
      "text/html": "<div>\n<style scoped>\n    .dataframe tbody tr th:only-of-type {\n        vertical-align: middle;\n    }\n\n    .dataframe tbody tr th {\n        vertical-align: top;\n    }\n\n    .dataframe thead th {\n        text-align: right;\n    }\n</style>\n<table border=\"1\" class=\"dataframe\">\n  <thead>\n    <tr style=\"text-align: right;\">\n      <th></th>\n      <th>id</th>\n      <th>mass</th>\n      <th>year</th>\n      <th>reclat</th>\n      <th>reclong</th>\n    </tr>\n  </thead>\n  <tbody>\n    <tr>\n      <th>count</th>\n      <td>45,716.0</td>\n      <td>45,585.0</td>\n      <td>45,428.0</td>\n      <td>38,401.0</td>\n      <td>38,401.0</td>\n    </tr>\n    <tr>\n      <th>mean</th>\n      <td>26,889.7</td>\n      <td>13,278.1</td>\n      <td>1,991.8</td>\n      <td>-39.1</td>\n      <td>61.1</td>\n    </tr>\n    <tr>\n      <th>std</th>\n      <td>16,860.7</td>\n      <td>574,988.9</td>\n      <td>27.2</td>\n      <td>46.4</td>\n      <td>80.6</td>\n    </tr>\n    <tr>\n      <th>min</th>\n      <td>1.0</td>\n      <td>0.0</td>\n      <td>301.0</td>\n      <td>-87.4</td>\n      <td>-165.4</td>\n    </tr>\n    <tr>\n      <th>25%</th>\n      <td>12,688.8</td>\n      <td>7.2</td>\n      <td>1,987.0</td>\n      <td>-76.7</td>\n      <td>0.0</td>\n    </tr>\n    <tr>\n      <th>50%</th>\n      <td>24,261.5</td>\n      <td>32.6</td>\n      <td>1,998.0</td>\n      <td>-71.5</td>\n      <td>35.7</td>\n    </tr>\n    <tr>\n      <th>75%</th>\n      <td>40,656.8</td>\n      <td>202.6</td>\n      <td>2,003.0</td>\n      <td>0.0</td>\n      <td>157.2</td>\n    </tr>\n    <tr>\n      <th>max</th>\n      <td>57,458.0</td>\n      <td>60,000,000.0</td>\n      <td>2,501.0</td>\n      <td>81.2</td>\n      <td>354.5</td>\n    </tr>\n  </tbody>\n</table>\n</div>"
     },
     "metadata": {},
     "execution_count": 28
    }
   ],
   "source": [
    "pd.options.display.float_format='{:,.1f}'.format\n",
    "dataframe.describe()"
   ]
  },
  {
   "cell_type": "code",
   "execution_count": 29,
   "metadata": {},
   "outputs": [
    {
     "output_type": "stream",
     "name": "stdout",
     "text": [
      "<class 'pandas.core.frame.DataFrame'>\nRangeIndex: 45716 entries, 0 to 45715\nData columns (total 10 columns):\n #   Column       Non-Null Count  Dtype  \n---  ------       --------------  -----  \n 0   name         45716 non-null  object \n 1   id           45716 non-null  int64  \n 2   nametype     45716 non-null  object \n 3   recclass     45716 non-null  object \n 4   mass         45585 non-null  float64\n 5   fall         45716 non-null  object \n 6   year         45428 non-null  float64\n 7   reclat       38401 non-null  float64\n 8   reclong      38401 non-null  float64\n 9   GeoLocation  38401 non-null  object \ndtypes: float64(4), int64(1), object(5)\nmemory usage: 3.5+ MB\n"
     ]
    }
   ],
   "source": [
    "dataframe.info()"
   ]
  },
  {
   "cell_type": "code",
   "execution_count": 30,
   "metadata": {},
   "outputs": [
    {
     "output_type": "execute_result",
     "data": {
      "text/plain": [
       "         name     id nametype           recclass  mass   fall  year  reclat  \\\n",
       "16356  Havana  11857    Valid  Iron, IAB complex   NaN  Found 301.0    40.3   \n",
       "\n",
       "       reclong              GeoLocation  \n",
       "16356    -90.0  (40.333330, -90.050000)  "
      ],
      "text/html": "<div>\n<style scoped>\n    .dataframe tbody tr th:only-of-type {\n        vertical-align: middle;\n    }\n\n    .dataframe tbody tr th {\n        vertical-align: top;\n    }\n\n    .dataframe thead th {\n        text-align: right;\n    }\n</style>\n<table border=\"1\" class=\"dataframe\">\n  <thead>\n    <tr style=\"text-align: right;\">\n      <th></th>\n      <th>name</th>\n      <th>id</th>\n      <th>nametype</th>\n      <th>recclass</th>\n      <th>mass</th>\n      <th>fall</th>\n      <th>year</th>\n      <th>reclat</th>\n      <th>reclong</th>\n      <th>GeoLocation</th>\n    </tr>\n  </thead>\n  <tbody>\n    <tr>\n      <th>16356</th>\n      <td>Havana</td>\n      <td>11857</td>\n      <td>Valid</td>\n      <td>Iron, IAB complex</td>\n      <td>NaN</td>\n      <td>Found</td>\n      <td>301.0</td>\n      <td>40.3</td>\n      <td>-90.0</td>\n      <td>(40.333330, -90.050000)</td>\n    </tr>\n  </tbody>\n</table>\n</div>"
     },
     "metadata": {},
     "execution_count": 30
    }
   ],
   "source": [
    "dataframe[dataframe['year']==301]"
   ]
  },
  {
   "cell_type": "code",
   "execution_count": 31,
   "metadata": {},
   "outputs": [
    {
     "output_type": "execute_result",
     "data": {
      "text/plain": [
       "name            string\n",
       "id               Int64\n",
       "nametype        string\n",
       "recclass        string\n",
       "mass           Float64\n",
       "fall            string\n",
       "year             Int64\n",
       "reclat         Float64\n",
       "reclong        Float64\n",
       "GeoLocation     string\n",
       "dtype: object"
      ]
     },
     "metadata": {},
     "execution_count": 31
    }
   ],
   "source": [
    "dataframe.convert_dtypes().dtypes"
   ]
  },
  {
   "cell_type": "code",
   "execution_count": 32,
   "metadata": {},
   "outputs": [
    {
     "output_type": "execute_result",
     "data": {
      "text/plain": [
       "name           45716\n",
       "id             45716\n",
       "nametype           2\n",
       "recclass         466\n",
       "mass           12576\n",
       "fall               2\n",
       "year             268\n",
       "reclat         12738\n",
       "reclong        14640\n",
       "GeoLocation    17100\n",
       "dtype: int64"
      ]
     },
     "metadata": {},
     "execution_count": 32
    }
   ],
   "source": [
    "dataframe.nunique()"
   ]
  },
  {
   "cell_type": "code",
   "execution_count": 33,
   "metadata": {},
   "outputs": [],
   "source": [
    "dataframe[['fall','nametype']]=dataframe[['fall','nametype']].astype('category')"
   ]
  },
  {
   "cell_type": "code",
   "execution_count": 34,
   "metadata": {},
   "outputs": [
    {
     "output_type": "execute_result",
     "data": {
      "text/plain": [
       "name             string\n",
       "id                Int64\n",
       "nametype       category\n",
       "recclass         string\n",
       "mass            Float64\n",
       "fall           category\n",
       "year              Int64\n",
       "reclat          Float64\n",
       "reclong         Float64\n",
       "GeoLocation      string\n",
       "dtype: object"
      ]
     },
     "metadata": {},
     "execution_count": 34
    }
   ],
   "source": [
    "dataframe.convert_dtypes().dtypes"
   ]
  },
  {
   "cell_type": "code",
   "execution_count": 35,
   "metadata": {},
   "outputs": [
    {
     "output_type": "execute_result",
     "data": {
      "text/plain": [
       "['Fell', 'Found']\n",
       "Categories (2, object): ['Fell', 'Found']"
      ]
     },
     "metadata": {},
     "execution_count": 35
    }
   ],
   "source": [
    "dataframe['fall'].unique()"
   ]
  },
  {
   "cell_type": "code",
   "execution_count": 36,
   "metadata": {},
   "outputs": [
    {
     "output_type": "execute_result",
     "data": {
      "text/plain": [
       "Found    44609\n",
       "Fell      1107\n",
       "Name: fall, dtype: int64"
      ]
     },
     "metadata": {},
     "execution_count": 36
    }
   ],
   "source": [
    "dataframe['fall'].value_counts()"
   ]
  },
  {
   "cell_type": "code",
   "execution_count": 37,
   "metadata": {},
   "outputs": [
    {
     "output_type": "execute_result",
     "data": {
      "text/plain": [
       "       Fell  Found\n",
       "0         1      0\n",
       "1         1      0\n",
       "2         1      0\n",
       "3         1      0\n",
       "4         1      0\n",
       "...     ...    ...\n",
       "45711     0      1\n",
       "45712     0      1\n",
       "45713     0      1\n",
       "45714     0      1\n",
       "45715     0      1\n",
       "\n",
       "[45716 rows x 2 columns]"
      ],
      "text/html": "<div>\n<style scoped>\n    .dataframe tbody tr th:only-of-type {\n        vertical-align: middle;\n    }\n\n    .dataframe tbody tr th {\n        vertical-align: top;\n    }\n\n    .dataframe thead th {\n        text-align: right;\n    }\n</style>\n<table border=\"1\" class=\"dataframe\">\n  <thead>\n    <tr style=\"text-align: right;\">\n      <th></th>\n      <th>Fell</th>\n      <th>Found</th>\n    </tr>\n  </thead>\n  <tbody>\n    <tr>\n      <th>0</th>\n      <td>1</td>\n      <td>0</td>\n    </tr>\n    <tr>\n      <th>1</th>\n      <td>1</td>\n      <td>0</td>\n    </tr>\n    <tr>\n      <th>2</th>\n      <td>1</td>\n      <td>0</td>\n    </tr>\n    <tr>\n      <th>3</th>\n      <td>1</td>\n      <td>0</td>\n    </tr>\n    <tr>\n      <th>4</th>\n      <td>1</td>\n      <td>0</td>\n    </tr>\n    <tr>\n      <th>...</th>\n      <td>...</td>\n      <td>...</td>\n    </tr>\n    <tr>\n      <th>45711</th>\n      <td>0</td>\n      <td>1</td>\n    </tr>\n    <tr>\n      <th>45712</th>\n      <td>0</td>\n      <td>1</td>\n    </tr>\n    <tr>\n      <th>45713</th>\n      <td>0</td>\n      <td>1</td>\n    </tr>\n    <tr>\n      <th>45714</th>\n      <td>0</td>\n      <td>1</td>\n    </tr>\n    <tr>\n      <th>45715</th>\n      <td>0</td>\n      <td>1</td>\n    </tr>\n  </tbody>\n</table>\n<p>45716 rows × 2 columns</p>\n</div>"
     },
     "metadata": {},
     "execution_count": 37
    }
   ],
   "source": [
    "pd.get_dummies(dataframe['fall'])"
   ]
  },
  {
   "cell_type": "code",
   "execution_count": 38,
   "metadata": {},
   "outputs": [],
   "source": [
    "dataframe[['fell','found']] = pd.get_dummies(dataframe['fall'])"
   ]
  },
  {
   "cell_type": "code",
   "execution_count": 39,
   "metadata": {},
   "outputs": [
    {
     "output_type": "execute_result",
     "data": {
      "text/plain": [
       "       name   id nametype     recclass      mass  fall    year  reclat  \\\n",
       "0    Aachen    1    Valid           L5      21.0  Fell 1,880.0    50.8   \n",
       "1    Aarhus    2    Valid           H6     720.0  Fell 1,951.0    56.2   \n",
       "2      Abee    6    Valid          EH4 107,000.0  Fell 1,952.0    54.2   \n",
       "3  Acapulco   10    Valid  Acapulcoite   1,914.0  Fell 1,976.0    16.9   \n",
       "4   Achiras  370    Valid           L6     780.0  Fell 1,902.0   -33.2   \n",
       "\n",
       "   reclong               GeoLocation  fell  found  \n",
       "0      6.1     (50.775000, 6.083330)     1      0  \n",
       "1     10.2    (56.183330, 10.233330)     1      0  \n",
       "2   -113.0  (54.216670, -113.000000)     1      0  \n",
       "3    -99.9   (16.883330, -99.900000)     1      0  \n",
       "4    -65.0  (-33.166670, -64.950000)     1      0  "
      ],
      "text/html": "<div>\n<style scoped>\n    .dataframe tbody tr th:only-of-type {\n        vertical-align: middle;\n    }\n\n    .dataframe tbody tr th {\n        vertical-align: top;\n    }\n\n    .dataframe thead th {\n        text-align: right;\n    }\n</style>\n<table border=\"1\" class=\"dataframe\">\n  <thead>\n    <tr style=\"text-align: right;\">\n      <th></th>\n      <th>name</th>\n      <th>id</th>\n      <th>nametype</th>\n      <th>recclass</th>\n      <th>mass</th>\n      <th>fall</th>\n      <th>year</th>\n      <th>reclat</th>\n      <th>reclong</th>\n      <th>GeoLocation</th>\n      <th>fell</th>\n      <th>found</th>\n    </tr>\n  </thead>\n  <tbody>\n    <tr>\n      <th>0</th>\n      <td>Aachen</td>\n      <td>1</td>\n      <td>Valid</td>\n      <td>L5</td>\n      <td>21.0</td>\n      <td>Fell</td>\n      <td>1,880.0</td>\n      <td>50.8</td>\n      <td>6.1</td>\n      <td>(50.775000, 6.083330)</td>\n      <td>1</td>\n      <td>0</td>\n    </tr>\n    <tr>\n      <th>1</th>\n      <td>Aarhus</td>\n      <td>2</td>\n      <td>Valid</td>\n      <td>H6</td>\n      <td>720.0</td>\n      <td>Fell</td>\n      <td>1,951.0</td>\n      <td>56.2</td>\n      <td>10.2</td>\n      <td>(56.183330, 10.233330)</td>\n      <td>1</td>\n      <td>0</td>\n    </tr>\n    <tr>\n      <th>2</th>\n      <td>Abee</td>\n      <td>6</td>\n      <td>Valid</td>\n      <td>EH4</td>\n      <td>107,000.0</td>\n      <td>Fell</td>\n      <td>1,952.0</td>\n      <td>54.2</td>\n      <td>-113.0</td>\n      <td>(54.216670, -113.000000)</td>\n      <td>1</td>\n      <td>0</td>\n    </tr>\n    <tr>\n      <th>3</th>\n      <td>Acapulco</td>\n      <td>10</td>\n      <td>Valid</td>\n      <td>Acapulcoite</td>\n      <td>1,914.0</td>\n      <td>Fell</td>\n      <td>1,976.0</td>\n      <td>16.9</td>\n      <td>-99.9</td>\n      <td>(16.883330, -99.900000)</td>\n      <td>1</td>\n      <td>0</td>\n    </tr>\n    <tr>\n      <th>4</th>\n      <td>Achiras</td>\n      <td>370</td>\n      <td>Valid</td>\n      <td>L6</td>\n      <td>780.0</td>\n      <td>Fell</td>\n      <td>1,902.0</td>\n      <td>-33.2</td>\n      <td>-65.0</td>\n      <td>(-33.166670, -64.950000)</td>\n      <td>1</td>\n      <td>0</td>\n    </tr>\n  </tbody>\n</table>\n</div>"
     },
     "metadata": {},
     "execution_count": 39
    }
   ],
   "source": [
    "dataframe.head()"
   ]
  },
  {
   "cell_type": "code",
   "execution_count": 40,
   "metadata": {},
   "outputs": [
    {
     "output_type": "execute_result",
     "data": {
      "text/plain": [
       "0       1970-01-01 00:00:00.000001880\n",
       "1       1970-01-01 00:00:00.000001951\n",
       "2       1970-01-01 00:00:00.000001952\n",
       "3       1970-01-01 00:00:00.000001976\n",
       "4       1970-01-01 00:00:00.000001902\n",
       "                     ...             \n",
       "45711   1970-01-01 00:00:00.000001990\n",
       "45712   1970-01-01 00:00:00.000001999\n",
       "45713   1970-01-01 00:00:00.000001939\n",
       "45714   1970-01-01 00:00:00.000002003\n",
       "45715   1970-01-01 00:00:00.000001976\n",
       "Name: year, Length: 45716, dtype: datetime64[ns]"
      ]
     },
     "metadata": {},
     "execution_count": 40
    }
   ],
   "source": [
    "pd.to_datetime(dataframe['year'],errors='coerce')"
   ]
  },
  {
   "cell_type": "code",
   "execution_count": 41,
   "metadata": {},
   "outputs": [],
   "source": [
    "dataframe.rename(columns={'nametype':'name'},inplace=True)"
   ]
  },
  {
   "cell_type": "code",
   "execution_count": 42,
   "metadata": {},
   "outputs": [
    {
     "output_type": "execute_result",
     "data": {
      "text/plain": [
       "['name',\n",
       " 'id',\n",
       " 'name',\n",
       " 'recclass',\n",
       " 'mass',\n",
       " 'fall',\n",
       " 'year',\n",
       " 'reclat',\n",
       " 'reclong',\n",
       " 'GeoLocation',\n",
       " 'fell',\n",
       " 'found']"
      ]
     },
     "metadata": {},
     "execution_count": 42
    }
   ],
   "source": [
    "list(dataframe)"
   ]
  },
  {
   "cell_type": "code",
   "execution_count": 43,
   "metadata": {},
   "outputs": [],
   "source": [
    "dataframe.drop(['fall'],axis=1,inplace=True)"
   ]
  },
  {
   "cell_type": "code",
   "execution_count": 44,
   "metadata": {},
   "outputs": [
    {
     "output_type": "execute_result",
     "data": {
      "text/plain": [
       "             name     id   name              recclass      mass    year  \\\n",
       "0          Aachen      1  Valid                    L5      21.0 1,880.0   \n",
       "1          Aarhus      2  Valid                    H6     720.0 1,951.0   \n",
       "2            Abee      6  Valid                   EH4 107,000.0 1,952.0   \n",
       "3        Acapulco     10  Valid           Acapulcoite   1,914.0 1,976.0   \n",
       "4         Achiras    370  Valid                    L6     780.0 1,902.0   \n",
       "...           ...    ...    ...                   ...       ...     ...   \n",
       "45711  Zillah 002  31356  Valid               Eucrite     172.0 1,990.0   \n",
       "45712      Zinder  30409  Valid  Pallasite, ungrouped      46.0 1,999.0   \n",
       "45713        Zlin  30410  Valid                    H4       3.3 1,939.0   \n",
       "45714   Zubkovsky  31357  Valid                    L6   2,167.0 2,003.0   \n",
       "45715  Zulu Queen  30414  Valid                  L3.7     200.0 1,976.0   \n",
       "\n",
       "       reclat  reclong               GeoLocation  fell  found  \n",
       "0        50.8      6.1     (50.775000, 6.083330)     1      0  \n",
       "1        56.2     10.2    (56.183330, 10.233330)     1      0  \n",
       "2        54.2   -113.0  (54.216670, -113.000000)     1      0  \n",
       "3        16.9    -99.9   (16.883330, -99.900000)     1      0  \n",
       "4       -33.2    -65.0  (-33.166670, -64.950000)     1      0  \n",
       "...       ...      ...                       ...   ...    ...  \n",
       "45711    29.0     17.0    (29.037000, 17.018500)     0      1  \n",
       "45712    13.8      9.0     (13.783330, 8.966670)     0      1  \n",
       "45713    49.2     17.7    (49.250000, 17.666670)     0      1  \n",
       "45714    49.8     41.5    (49.789170, 41.504600)     0      1  \n",
       "45715    34.0   -115.7  (33.983330, -115.683330)     0      1  \n",
       "\n",
       "[45716 rows x 11 columns]"
      ],
      "text/html": "<div>\n<style scoped>\n    .dataframe tbody tr th:only-of-type {\n        vertical-align: middle;\n    }\n\n    .dataframe tbody tr th {\n        vertical-align: top;\n    }\n\n    .dataframe thead th {\n        text-align: right;\n    }\n</style>\n<table border=\"1\" class=\"dataframe\">\n  <thead>\n    <tr style=\"text-align: right;\">\n      <th></th>\n      <th>name</th>\n      <th>id</th>\n      <th>name</th>\n      <th>recclass</th>\n      <th>mass</th>\n      <th>year</th>\n      <th>reclat</th>\n      <th>reclong</th>\n      <th>GeoLocation</th>\n      <th>fell</th>\n      <th>found</th>\n    </tr>\n  </thead>\n  <tbody>\n    <tr>\n      <th>0</th>\n      <td>Aachen</td>\n      <td>1</td>\n      <td>Valid</td>\n      <td>L5</td>\n      <td>21.0</td>\n      <td>1,880.0</td>\n      <td>50.8</td>\n      <td>6.1</td>\n      <td>(50.775000, 6.083330)</td>\n      <td>1</td>\n      <td>0</td>\n    </tr>\n    <tr>\n      <th>1</th>\n      <td>Aarhus</td>\n      <td>2</td>\n      <td>Valid</td>\n      <td>H6</td>\n      <td>720.0</td>\n      <td>1,951.0</td>\n      <td>56.2</td>\n      <td>10.2</td>\n      <td>(56.183330, 10.233330)</td>\n      <td>1</td>\n      <td>0</td>\n    </tr>\n    <tr>\n      <th>2</th>\n      <td>Abee</td>\n      <td>6</td>\n      <td>Valid</td>\n      <td>EH4</td>\n      <td>107,000.0</td>\n      <td>1,952.0</td>\n      <td>54.2</td>\n      <td>-113.0</td>\n      <td>(54.216670, -113.000000)</td>\n      <td>1</td>\n      <td>0</td>\n    </tr>\n    <tr>\n      <th>3</th>\n      <td>Acapulco</td>\n      <td>10</td>\n      <td>Valid</td>\n      <td>Acapulcoite</td>\n      <td>1,914.0</td>\n      <td>1,976.0</td>\n      <td>16.9</td>\n      <td>-99.9</td>\n      <td>(16.883330, -99.900000)</td>\n      <td>1</td>\n      <td>0</td>\n    </tr>\n    <tr>\n      <th>4</th>\n      <td>Achiras</td>\n      <td>370</td>\n      <td>Valid</td>\n      <td>L6</td>\n      <td>780.0</td>\n      <td>1,902.0</td>\n      <td>-33.2</td>\n      <td>-65.0</td>\n      <td>(-33.166670, -64.950000)</td>\n      <td>1</td>\n      <td>0</td>\n    </tr>\n    <tr>\n      <th>...</th>\n      <td>...</td>\n      <td>...</td>\n      <td>...</td>\n      <td>...</td>\n      <td>...</td>\n      <td>...</td>\n      <td>...</td>\n      <td>...</td>\n      <td>...</td>\n      <td>...</td>\n      <td>...</td>\n    </tr>\n    <tr>\n      <th>45711</th>\n      <td>Zillah 002</td>\n      <td>31356</td>\n      <td>Valid</td>\n      <td>Eucrite</td>\n      <td>172.0</td>\n      <td>1,990.0</td>\n      <td>29.0</td>\n      <td>17.0</td>\n      <td>(29.037000, 17.018500)</td>\n      <td>0</td>\n      <td>1</td>\n    </tr>\n    <tr>\n      <th>45712</th>\n      <td>Zinder</td>\n      <td>30409</td>\n      <td>Valid</td>\n      <td>Pallasite, ungrouped</td>\n      <td>46.0</td>\n      <td>1,999.0</td>\n      <td>13.8</td>\n      <td>9.0</td>\n      <td>(13.783330, 8.966670)</td>\n      <td>0</td>\n      <td>1</td>\n    </tr>\n    <tr>\n      <th>45713</th>\n      <td>Zlin</td>\n      <td>30410</td>\n      <td>Valid</td>\n      <td>H4</td>\n      <td>3.3</td>\n      <td>1,939.0</td>\n      <td>49.2</td>\n      <td>17.7</td>\n      <td>(49.250000, 17.666670)</td>\n      <td>0</td>\n      <td>1</td>\n    </tr>\n    <tr>\n      <th>45714</th>\n      <td>Zubkovsky</td>\n      <td>31357</td>\n      <td>Valid</td>\n      <td>L6</td>\n      <td>2,167.0</td>\n      <td>2,003.0</td>\n      <td>49.8</td>\n      <td>41.5</td>\n      <td>(49.789170, 41.504600)</td>\n      <td>0</td>\n      <td>1</td>\n    </tr>\n    <tr>\n      <th>45715</th>\n      <td>Zulu Queen</td>\n      <td>30414</td>\n      <td>Valid</td>\n      <td>L3.7</td>\n      <td>200.0</td>\n      <td>1,976.0</td>\n      <td>34.0</td>\n      <td>-115.7</td>\n      <td>(33.983330, -115.683330)</td>\n      <td>0</td>\n      <td>1</td>\n    </tr>\n  </tbody>\n</table>\n<p>45716 rows × 11 columns</p>\n</div>"
     },
     "metadata": {},
     "execution_count": 44
    }
   ],
   "source": [
    "dataframe"
   ]
  },
  {
   "cell_type": "code",
   "execution_count": null,
   "metadata": {},
   "outputs": [],
   "source": []
  }
 ]
}